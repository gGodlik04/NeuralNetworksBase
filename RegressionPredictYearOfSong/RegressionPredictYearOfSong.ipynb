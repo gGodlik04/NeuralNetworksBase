{
  "cells": [
    {
      "cell_type": "code",
      "source": [
        "import torch\n",
        "from torch import nn\n",
        "import pandas as pd\n",
        "import numpy as np\n",
        "import random\n",
        "from torch.utils.data import Dataset, DataLoader, TensorDataset\n",
        "from sklearn.preprocessing import LabelEncoder, StandardScaler\n",
        "from sklearn.impute import SimpleImputer\n",
        "import torch.optim as optim\n",
        "from tqdm.notebook import tqdm\n",
        "import matplotlib.pyplot as plt\n",
        "from sklearn.metrics import mean_absolute_error, mean_squared_error"
      ],
      "outputs": [],
      "execution_count": null,
      "metadata": {
        "id": "RI_eoe063VaP"
      }
    },
    {
      "cell_type": "code",
      "source": [
        "!wget -O data.txt.zip https://archive.ics.uci.edu/ml/machine-learning-databases/00203/YearPredictionMSD.txt.zip"
      ],
      "outputs": [],
      "execution_count": null,
      "metadata": {
        "id": "7NgSZeU-7vgj"
      }
    },
    {
      "cell_type": "code",
      "source": [
        "df = pd.read_csv('data.txt.zip', header=None)\n",
        "df.dropna(axis=0, inplace=True)\n",
        "standardScaler = StandardScaler()\n",
        "df.head()\n",
        "\n"
      ],
      "outputs": [],
      "execution_count": null,
      "metadata": {
        "id": "DSVJZzkJ7zZE"
      }
    },
    {
      "cell_type": "code",
      "source": [
        "X = df.iloc[:, 1:].values\n",
        "y = df.iloc[:, 0].values\n",
        "\n",
        "train_size = 463715\n",
        "X_train = X[:train_size, :]\n",
        "y_train = y[:train_size]\n",
        "X_test = X[train_size:, :]\n",
        "y_test = y[train_size:]\n",
        "\n",
        "def set_random_seed(seed):\n",
        "    torch.backends.cudnn.deterministic = True\n",
        "    torch.manual_seed(seed)\n",
        "    torch.cuda.manual_seed(seed)\n",
        "    np.random.seed(seed)\n",
        "    random.seed(seed)\n",
        "    optimizer.seed = 92"
      ],
      "outputs": [],
      "execution_count": null,
      "metadata": {
        "id": "n4wnRJT1778j"
      }
    },
    {
      "cell_type": "code",
      "source": [
        "y_train = y_train.reshape(-1, 1)\n",
        "y_test = y_test.reshape(-1, 1)\n",
        "\n",
        "y_train_normalized = standardScaler.fit_transform(y_train)\n",
        "y_test_normalized = standardScaler.transform(y_test)\n",
        "\n",
        "X_train = torch.tensor(X_train, dtype=torch.float32).clone().detach()\n",
        "y_train = torch.tensor(y_train_normalized, dtype=torch.float32).clone().detach()\n",
        "X_test = torch.tensor(X_test, dtype=torch.float32).clone().detach()\n",
        "y_test = torch.tensor(y_test_normalized, dtype=torch.float32).clone().detach()"
      ],
      "metadata": {
        "id": "nP-LndesWJQW"
      },
      "execution_count": null,
      "outputs": []
    },
    {
      "cell_type": "code",
      "source": [
        "train_set = TensorDataset(X_train, y_train)\n",
        "train_loader = DataLoader(train_set, batch_size=256, shuffle=False)\n",
        "\n",
        "test_set = TensorDataset(X_test, y_test)\n",
        "test_loader = DataLoader(test_set, batch_size=256, shuffle=False)\n",
        "\n",
        "model = nn.Sequential(\n",
        "            nn.Linear(90, 256),\n",
        "            nn.ReLU(),\n",
        "            nn.Linear(256, 128),\n",
        "            nn.ReLU(),\n",
        "            nn.Linear(128, 64),\n",
        "            nn.ReLU(),\n",
        "            nn.Linear(64, 32),\n",
        "            nn.ReLU(),\n",
        "            nn.Linear(32, 1)\n",
        ")\n",
        "optimizer = optim.Adam(model.parameters(), lr=0.002)\n",
        "criterion = nn.MSELoss()\n",
        "\n",
        "num_epochs = 45"
      ],
      "metadata": {
        "id": "PxfFAXRIkjEx"
      },
      "execution_count": null,
      "outputs": []
    },
    {
      "cell_type": "code",
      "source": [
        "def train(model, optimizer, criterion, train_loader, test_loader, standardScaler):\n",
        "    model.train()\n",
        "    train_losses = []\n",
        "    test_losses = []\n",
        "    mae_values = []\n",
        "    rmse_values = []\n",
        "\n",
        "    for epoch in tqdm(range(num_epochs), desc='Train', unit='epoch'):\n",
        "        epoch_train_loss = 0\n",
        "        for X, y in train_loader:\n",
        "            optimizer.zero_grad()\n",
        "            outputs = model(X)\n",
        "            loss = criterion(outputs, y)\n",
        "            loss.backward()\n",
        "            optimizer.step()\n",
        "            epoch_train_loss += loss.item()\n",
        "\n",
        "        average_epoch_train_loss = epoch_train_loss / len(train_loader)\n",
        "        train_losses.append(average_epoch_train_loss)\n",
        "\n",
        "        test_loss, mae, rmse = test(model, criterion, test_loader, standardScaler)\n",
        "        test_losses.append(test_loss)\n",
        "        mae_values.append(mae)\n",
        "        rmse_values.append(rmse)\n",
        "        print(f'Epoch [{epoch + 1}/{num_epochs}], Train Loss: {average_epoch_train_loss:.4f}, Test Loss: {test_loss:.4f}, MAE: {mae:.4f}, RMSE: {rmse:.4f}')\n",
        "\n",
        "    return train_losses, test_losses, mae_values, rmse_values\n",
        "\n",
        "def test(model, criterion, test_loader, standardScaler):\n",
        "    model.eval()\n",
        "    total_loss = 0.0\n",
        "    num_samples = 0\n",
        "    predicted_values = []\n",
        "\n",
        "    with torch.no_grad():\n",
        "        for X, y in test_loader:\n",
        "            outputs = model(X)\n",
        "            loss = criterion(outputs, y)\n",
        "            total_loss += loss.item()\n",
        "            num_samples += len(y)\n",
        "\n",
        "            predicted_normalized = outputs.detach().numpy()\n",
        "            predicted = standardScaler.inverse_transform(predicted_normalized)\n",
        "            predicted_values.extend(predicted)\n",
        "\n",
        "    average_loss = total_loss / num_samples\n",
        "\n",
        "    mae = mean_absolute_error(standardScaler.inverse_transform(y_test_normalized), np.array(predicted_values))\n",
        "    rmse = np.sqrt(mean_squared_error(standardScaler.inverse_transform(y_test_normalized), np.array(predicted_values)))\n",
        "\n",
        "    return average_loss, mae, rmse"
      ],
      "metadata": {
        "id": "wrYaQF1-WWPx"
      },
      "execution_count": null,
      "outputs": []
    },
    {
      "cell_type": "code",
      "source": [
        "set_random_seed(137)\n",
        "\n",
        "train_losses, test_losses, mae, rmse = train(model, optimizer, criterion, train_loader, test_loader, standardScaler)\n",
        "\n",
        "test_losses_np = np.array(test_losses)\n",
        "\n",
        "plt.figure(figsize=(12, 6))\n",
        "plt.subplot(1, 3, 1)\n",
        "plt.plot(test_losses, label='test loss')\n",
        "plt.plot(train_losses, label='train loss')\n",
        "plt.legend()\n",
        "plt.xlabel('Epoch')\n",
        "plt.ylabel('Loss')\n",
        "plt.title('Loss values')\n",
        "\n",
        "plt.subplot(1, 3, 2)\n",
        "plt.plot(mae, label='MAE')\n",
        "plt.legend()\n",
        "plt.xlabel('Epoch')\n",
        "plt.ylabel('MAE')\n",
        "plt.title('MAE')\n",
        "\n",
        "plt.subplot(1, 3, 3)\n",
        "plt.plot(rmse, label='RMSE')\n",
        "plt.legend()\n",
        "plt.xlabel('Epoch')\n",
        "plt.ylabel('RMSE')\n",
        "plt.title('RMSE')\n",
        "\n",
        "plt.show()"
      ],
      "metadata": {
        "id": "AFZtji4yktnY",
        "colab": {
          "base_uri": "https://localhost:8080/",
          "height": 1000,
          "referenced_widgets": [
            "8a8d42395b874e5ca5eb90313970d3a2",
            "10fa126c04234418bcb32468b54f3309",
            "bf2866727cba46d2b2f0215d86b92939",
            "ad8b8033b0944685bc9f26292aa0dcc9",
            "8eb2cb69ebad4986841c9e478fbab2d4",
            "112a51dc4bc246949e476529f8e6cda9",
            "9c5ca356b9064354800f300db9a24bf5",
            "9aab46291775434f98c1083eb0eb7bfa",
            "aac0981e534a45a8ac3f0a5ec78d09a8",
            "2ff2476a17c94263a174a0d2a40372c1",
            "ecc199ccf36a4fe79ee035a0fa33b59c"
          ]
        },
        "outputId": "d70cd758-17c0-47a6-fdf6-2d74d4319776"
      },
      "execution_count": null,
      "outputs": [
        {
          "output_type": "display_data",
          "data": {
            "text/plain": [
              "Train:   0%|          | 0/45 [00:00<?, ?epoch/s]"
            ],
            "application/vnd.jupyter.widget-view+json": {
              "version_major": 2,
              "version_minor": 0,
              "model_id": "8a8d42395b874e5ca5eb90313970d3a2"
            }
          },
          "metadata": {}
        },
        {
          "output_type": "stream",
          "name": "stdout",
          "text": [
            "Epoch [1/45], Train Loss: 1.0380, Test Loss: 0.0032, MAE: 7.1984, RMSE: 9.8109\n",
            "Epoch [2/45], Train Loss: 0.8154, Test Loss: 0.0031, MAE: 7.1165, RMSE: 9.6760\n",
            "Epoch [3/45], Train Loss: 0.7901, Test Loss: 0.0031, MAE: 7.1202, RMSE: 9.6470\n",
            "Epoch [4/45], Train Loss: 0.7766, Test Loss: 0.0031, MAE: 7.1355, RMSE: 9.6974\n",
            "Epoch [5/45], Train Loss: 0.7655, Test Loss: 0.0030, MAE: 6.9461, RMSE: 9.4900\n",
            "Epoch [6/45], Train Loss: 0.7579, Test Loss: 0.0029, MAE: 6.8647, RMSE: 9.4510\n",
            "Epoch [7/45], Train Loss: 0.7502, Test Loss: 0.0030, MAE: 6.9118, RMSE: 9.4690\n",
            "Epoch [8/45], Train Loss: 0.7457, Test Loss: 0.0029, MAE: 6.9383, RMSE: 9.4345\n",
            "Epoch [9/45], Train Loss: 0.7409, Test Loss: 0.0030, MAE: 6.9855, RMSE: 9.4659\n",
            "Epoch [10/45], Train Loss: 0.7370, Test Loss: 0.0029, MAE: 6.8967, RMSE: 9.4178\n",
            "Epoch [11/45], Train Loss: 0.7326, Test Loss: 0.0029, MAE: 6.8429, RMSE: 9.4103\n",
            "Epoch [12/45], Train Loss: 0.7344, Test Loss: 0.0030, MAE: 6.9436, RMSE: 9.5259\n",
            "Epoch [13/45], Train Loss: 0.7327, Test Loss: 0.0029, MAE: 6.9137, RMSE: 9.4486\n",
            "Epoch [14/45], Train Loss: 0.7272, Test Loss: 0.0029, MAE: 6.9330, RMSE: 9.4371\n",
            "Epoch [15/45], Train Loss: 0.7255, Test Loss: 0.0029, MAE: 6.8945, RMSE: 9.4300\n",
            "Epoch [16/45], Train Loss: 0.7221, Test Loss: 0.0029, MAE: 6.8177, RMSE: 9.3965\n",
            "Epoch [17/45], Train Loss: 0.7187, Test Loss: 0.0029, MAE: 6.7915, RMSE: 9.3699\n",
            "Epoch [18/45], Train Loss: 0.7393, Test Loss: 0.0029, MAE: 6.8452, RMSE: 9.3849\n",
            "Epoch [19/45], Train Loss: 0.7222, Test Loss: 0.0029, MAE: 6.7957, RMSE: 9.4085\n",
            "Epoch [20/45], Train Loss: 0.7216, Test Loss: 0.0029, MAE: 6.7884, RMSE: 9.3654\n",
            "Epoch [21/45], Train Loss: 0.7141, Test Loss: 0.0029, MAE: 6.7601, RMSE: 9.3682\n",
            "Epoch [22/45], Train Loss: 0.7110, Test Loss: 0.0029, MAE: 6.8198, RMSE: 9.3825\n",
            "Epoch [23/45], Train Loss: 0.7094, Test Loss: 0.0029, MAE: 6.8374, RMSE: 9.3865\n",
            "Epoch [24/45], Train Loss: 0.7075, Test Loss: 0.0029, MAE: 6.8223, RMSE: 9.3727\n",
            "Epoch [25/45], Train Loss: 0.7141, Test Loss: 0.0029, MAE: 6.9155, RMSE: 9.4295\n",
            "Epoch [26/45], Train Loss: 0.7169, Test Loss: 0.0029, MAE: 6.8806, RMSE: 9.4064\n",
            "Epoch [27/45], Train Loss: 0.7127, Test Loss: 0.0029, MAE: 6.7893, RMSE: 9.3871\n",
            "Epoch [28/45], Train Loss: 0.7111, Test Loss: 0.0029, MAE: 6.7945, RMSE: 9.3747\n",
            "Epoch [29/45], Train Loss: 0.7156, Test Loss: 0.0032, MAE: 6.8930, RMSE: 9.8964\n",
            "Epoch [30/45], Train Loss: 0.7096, Test Loss: 0.0029, MAE: 6.8117, RMSE: 9.4050\n",
            "Epoch [31/45], Train Loss: 0.7133, Test Loss: 0.0029, MAE: 6.7660, RMSE: 9.3836\n",
            "Epoch [32/45], Train Loss: 0.7047, Test Loss: 0.0029, MAE: 6.8222, RMSE: 9.3874\n",
            "Epoch [33/45], Train Loss: 0.7091, Test Loss: 0.0029, MAE: 6.7681, RMSE: 9.4048\n",
            "Epoch [34/45], Train Loss: 0.7061, Test Loss: 0.0029, MAE: 6.7903, RMSE: 9.3915\n",
            "Epoch [35/45], Train Loss: 0.7059, Test Loss: 0.0029, MAE: 6.8009, RMSE: 9.3814\n",
            "Epoch [36/45], Train Loss: 0.7037, Test Loss: 0.0029, MAE: 6.7746, RMSE: 9.3784\n",
            "Epoch [37/45], Train Loss: 0.6985, Test Loss: 0.0029, MAE: 6.7707, RMSE: 9.3768\n",
            "Epoch [38/45], Train Loss: 0.6979, Test Loss: 0.0029, MAE: 6.8082, RMSE: 9.4000\n",
            "Epoch [39/45], Train Loss: 0.6972, Test Loss: 0.0029, MAE: 6.8258, RMSE: 9.4031\n",
            "Epoch [40/45], Train Loss: 0.7003, Test Loss: 0.0029, MAE: 6.7609, RMSE: 9.3812\n",
            "Epoch [41/45], Train Loss: 0.6963, Test Loss: 0.0029, MAE: 6.7981, RMSE: 9.3713\n",
            "Epoch [42/45], Train Loss: 0.6930, Test Loss: 0.0029, MAE: 6.7421, RMSE: 9.3601\n",
            "Epoch [43/45], Train Loss: 0.7001, Test Loss: 0.0029, MAE: 6.7809, RMSE: 9.3813\n",
            "Epoch [44/45], Train Loss: 0.6942, Test Loss: 0.0029, MAE: 6.7942, RMSE: 9.3941\n",
            "Epoch [45/45], Train Loss: 0.6951, Test Loss: 0.0029, MAE: 6.6778, RMSE: 9.3970\n"
          ]
        },
        {
          "output_type": "display_data",
          "data": {
            "text/plain": [
              "<Figure size 1200x600 with 3 Axes>"
            ],
            "image/png": "[encoded data removed]"
          },
          "metadata": {}
        }
      ]
    }
  ],
  "metadata": {
    "colab": {
      "provenance": []
    },
    "kernelspec": {
      "name": "python",
      "language": "python",
      "display_name": "Pyolite (preview)"
    },
    "language_info": {
      "codemirror_mode": {
        "name": "python",
        "version": 3
      },
      "file_extension": ".py",
      "mimetype": "text/x-python",
      "name": "python",
      "nbconvert_exporter": "python",
      "pygments_lexer": "ipython3",
      "version": "3.8"
    },
    "kernel_info": {
      "name": "python"
    },
    "nteract": {
      "version": "nteract-front-end@1.0.0"
    },
    "widgets": {
      "application/vnd.jupyter.widget-state+json": {
        "8a8d42395b874e5ca5eb90313970d3a2": {
          "model_module": "@jupyter-widgets/controls",
          "model_name": "HBoxModel",
          "model_module_version": "1.5.0",
          "state": {
            "_dom_classes": [],
            "_model_module": "@jupyter-widgets/controls",
            "_model_module_version": "1.5.0",
            "_model_name": "HBoxModel",
            "_view_count": null,
            "_view_module": "@jupyter-widgets/controls",
            "_view_module_version": "1.5.0",
            "_view_name": "HBoxView",
            "box_style": "",
            "children": [
              "IPY_MODEL_10fa126c04234418bcb32468b54f3309",
              "IPY_MODEL_bf2866727cba46d2b2f0215d86b92939",
              "IPY_MODEL_ad8b8033b0944685bc9f26292aa0dcc9"
            ],
            "layout": "IPY_MODEL_8eb2cb69ebad4986841c9e478fbab2d4"
          }
        },
        "10fa126c04234418bcb32468b54f3309": {
          "model_module": "@jupyter-widgets/controls",
          "model_name": "HTMLModel",
          "model_module_version": "1.5.0",
          "state": {
            "_dom_classes": [],
            "_model_module": "@jupyter-widgets/controls",
            "_model_module_version": "1.5.0",
            "_model_name": "HTMLModel",
            "_view_count": null,
            "_view_module": "@jupyter-widgets/controls",
            "_view_module_version": "1.5.0",
            "_view_name": "HTMLView",
            "description": "",
            "description_tooltip": null,
            "layout": "IPY_MODEL_112a51dc4bc246949e476529f8e6cda9",
            "placeholder": "​",
            "style": "IPY_MODEL_9c5ca356b9064354800f300db9a24bf5",
            "value": "Train: 100%"
          }
        },
        "bf2866727cba46d2b2f0215d86b92939": {
          "model_module": "@jupyter-widgets/controls",
          "model_name": "FloatProgressModel",
          "model_module_version": "1.5.0",
          "state": {
            "_dom_classes": [],
            "_model_module": "@jupyter-widgets/controls",
            "_model_module_version": "1.5.0",
            "_model_name": "FloatProgressModel",
            "_view_count": null,
            "_view_module": "@jupyter-widgets/controls",
            "_view_module_version": "1.5.0",
            "_view_name": "ProgressView",
            "bar_style": "success",
            "description": "",
            "description_tooltip": null,
            "layout": "IPY_MODEL_9aab46291775434f98c1083eb0eb7bfa",
            "max": 45,
            "min": 0,
            "orientation": "horizontal",
            "style": "IPY_MODEL_aac0981e534a45a8ac3f0a5ec78d09a8",
            "value": 45
          }
        },
        "ad8b8033b0944685bc9f26292aa0dcc9": {
          "model_module": "@jupyter-widgets/controls",
          "model_name": "HTMLModel",
          "model_module_version": "1.5.0",
          "state": {
            "_dom_classes": [],
            "_model_module": "@jupyter-widgets/controls",
            "_model_module_version": "1.5.0",
            "_model_name": "HTMLModel",
            "_view_count": null,
            "_view_module": "@jupyter-widgets/controls",
            "_view_module_version": "1.5.0",
            "_view_name": "HTMLView",
            "description": "",
            "description_tooltip": null,
            "layout": "IPY_MODEL_2ff2476a17c94263a174a0d2a40372c1",
            "placeholder": "​",
            "style": "IPY_MODEL_ecc199ccf36a4fe79ee035a0fa33b59c",
            "value": " 45/45 [11:28&lt;00:00, 17.05s/epoch]"
          }
        },
        "8eb2cb69ebad4986841c9e478fbab2d4": {
          "model_module": "@jupyter-widgets/base",
          "model_name": "LayoutModel",
          "model_module_version": "1.2.0",
          "state": {
            "_model_module": "@jupyter-widgets/base",
            "_model_module_version": "1.2.0",
            "_model_name": "LayoutModel",
            "_view_count": null,
            "_view_module": "@jupyter-widgets/base",
            "_view_module_version": "1.2.0",
            "_view_name": "LayoutView",
            "align_content": null,
            "align_items": null,
            "align_self": null,
            "border": null,
            "bottom": null,
            "display": null,
            "flex": null,
            "flex_flow": null,
            "grid_area": null,
            "grid_auto_columns": null,
            "grid_auto_flow": null,
            "grid_auto_rows": null,
            "grid_column": null,
            "grid_gap": null,
            "grid_row": null,
            "grid_template_areas": null,
            "grid_template_columns": null,
            "grid_template_rows": null,
            "height": null,
            "justify_content": null,
            "justify_items": null,
            "left": null,
            "margin": null,
            "max_height": null,
            "max_width": null,
            "min_height": null,
            "min_width": null,
            "object_fit": null,
            "object_position": null,
            "order": null,
            "overflow": null,
            "overflow_x": null,
            "overflow_y": null,
            "padding": null,
            "right": null,
            "top": null,
            "visibility": null,
            "width": null
          }
        },
        "112a51dc4bc246949e476529f8e6cda9": {
          "model_module": "@jupyter-widgets/base",
          "model_name": "LayoutModel",
          "model_module_version": "1.2.0",
          "state": {
            "_model_module": "@jupyter-widgets/base",
            "_model_module_version": "1.2.0",
            "_model_name": "LayoutModel",
            "_view_count": null,
            "_view_module": "@jupyter-widgets/base",
            "_view_module_version": "1.2.0",
            "_view_name": "LayoutView",
            "align_content": null,
            "align_items": null,
            "align_self": null,
            "border": null,
            "bottom": null,
            "display": null,
            "flex": null,
            "flex_flow": null,
            "grid_area": null,
            "grid_auto_columns": null,
            "grid_auto_flow": null,
            "grid_auto_rows": null,
            "grid_column": null,
            "grid_gap": null,
            "grid_row": null,
            "grid_template_areas": null,
            "grid_template_columns": null,
            "grid_template_rows": null,
            "height": null,
            "justify_content": null,
            "justify_items": null,
            "left": null,
            "margin": null,
            "max_height": null,
            "max_width": null,
            "min_height": null,
            "min_width": null,
            "object_fit": null,
            "object_position": null,
            "order": null,
            "overflow": null,
            "overflow_x": null,
            "overflow_y": null,
            "padding": null,
            "right": null,
            "top": null,
            "visibility": null,
            "width": null
          }
        },
        "9c5ca356b9064354800f300db9a24bf5": {
          "model_module": "@jupyter-widgets/controls",
          "model_name": "DescriptionStyleModel",
          "model_module_version": "1.5.0",
          "state": {
            "_model_module": "@jupyter-widgets/controls",
            "_model_module_version": "1.5.0",
            "_model_name": "DescriptionStyleModel",
            "_view_count": null,
            "_view_module": "@jupyter-widgets/base",
            "_view_module_version": "1.2.0",
            "_view_name": "StyleView",
            "description_width": ""
          }
        },
        "9aab46291775434f98c1083eb0eb7bfa": {
          "model_module": "@jupyter-widgets/base",
          "model_name": "LayoutModel",
          "model_module_version": "1.2.0",
          "state": {
            "_model_module": "@jupyter-widgets/base",
            "_model_module_version": "1.2.0",
            "_model_name": "LayoutModel",
            "_view_count": null,
            "_view_module": "@jupyter-widgets/base",
            "_view_module_version": "1.2.0",
            "_view_name": "LayoutView",
            "align_content": null,
            "align_items": null,
            "align_self": null,
            "border": null,
            "bottom": null,
            "display": null,
            "flex": null,
            "flex_flow": null,
            "grid_area": null,
            "grid_auto_columns": null,
            "grid_auto_flow": null,
            "grid_auto_rows": null,
            "grid_column": null,
            "grid_gap": null,
            "grid_row": null,
            "grid_template_areas": null,
            "grid_template_columns": null,
            "grid_template_rows": null,
            "height": null,
            "justify_content": null,
            "justify_items": null,
            "left": null,
            "margin": null,
            "max_height": null,
            "max_width": null,
            "min_height": null,
            "min_width": null,
            "object_fit": null,
            "object_position": null,
            "order": null,
            "overflow": null,
            "overflow_x": null,
            "overflow_y": null,
            "padding": null,
            "right": null,
            "top": null,
            "visibility": null,
            "width": null
          }
        },
        "aac0981e534a45a8ac3f0a5ec78d09a8": {
          "model_module": "@jupyter-widgets/controls",
          "model_name": "ProgressStyleModel",
          "model_module_version": "1.5.0",
          "state": {
            "_model_module": "@jupyter-widgets/controls",
            "_model_module_version": "1.5.0",
            "_model_name": "ProgressStyleModel",
            "_view_count": null,
            "_view_module": "@jupyter-widgets/base",
            "_view_module_version": "1.2.0",
            "_view_name": "StyleView",
            "bar_color": null,
            "description_width": ""
          }
        },
        "2ff2476a17c94263a174a0d2a40372c1": {
          "model_module": "@jupyter-widgets/base",
          "model_name": "LayoutModel",
          "model_module_version": "1.2.0",
          "state": {
            "_model_module": "@jupyter-widgets/base",
            "_model_module_version": "1.2.0",
            "_model_name": "LayoutModel",
            "_view_count": null,
            "_view_module": "@jupyter-widgets/base",
            "_view_module_version": "1.2.0",
            "_view_name": "LayoutView",
            "align_content": null,
            "align_items": null,
            "align_self": null,
            "border": null,
            "bottom": null,
            "display": null,
            "flex": null,
            "flex_flow": null,
            "grid_area": null,
            "grid_auto_columns": null,
            "grid_auto_flow": null,
            "grid_auto_rows": null,
            "grid_column": null,
            "grid_gap": null,
            "grid_row": null,
            "grid_template_areas": null,
            "grid_template_columns": null,
            "grid_template_rows": null,
            "height": null,
            "justify_content": null,
            "justify_items": null,
            "left": null,
            "margin": null,
            "max_height": null,
            "max_width": null,
            "min_height": null,
            "min_width": null,
            "object_fit": null,
            "object_position": null,
            "order": null,
            "overflow": null,
            "overflow_x": null,
            "overflow_y": null,
            "padding": null,
            "right": null,
            "top": null,
            "visibility": null,
            "width": null
          }
        },
        "ecc199ccf36a4fe79ee035a0fa33b59c": {
          "model_module": "@jupyter-widgets/controls",
          "model_name": "DescriptionStyleModel",
          "model_module_version": "1.5.0",
          "state": {
            "_model_module": "@jupyter-widgets/controls",
            "_model_module_version": "1.5.0",
            "_model_name": "DescriptionStyleModel",
            "_view_count": null,
            "_view_module": "@jupyter-widgets/base",
            "_view_module_version": "1.2.0",
            "_view_name": "StyleView",
            "description_width": ""
          }
        }
      }
    }
  },
  "nbformat": 4,
  "nbformat_minor": 0
}